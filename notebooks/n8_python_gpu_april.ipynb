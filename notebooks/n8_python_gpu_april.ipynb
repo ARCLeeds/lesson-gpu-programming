{
  "nbformat": 4,
  "nbformat_minor": 0,
  "metadata": {
    "colab": {
      "provenance": []
    },
    "kernelspec": {
      "name": "python3",
      "display_name": "Python 3"
    },
    "language_info": {
      "name": "python"
    },
    "accelerator": "GPU",
    "gpuClass": "standard"
  },
  "cells": [
    {
      "cell_type": "code",
      "execution_count": 1,
      "metadata": {
        "colab": {
          "base_uri": "https://localhost:8080/"
        },
        "id": "PHdJ7xI5rgKt",
        "outputId": "aa4d025d-e850-495d-adaa-168749df75c7"
      },
      "outputs": [
        {
          "output_type": "stream",
          "name": "stdout",
          "text": [
            "Tue Apr 18 09:27:50 2023       \n",
            "+-----------------------------------------------------------------------------+\n",
            "| NVIDIA-SMI 525.85.12    Driver Version: 525.85.12    CUDA Version: 12.0     |\n",
            "|-------------------------------+----------------------+----------------------+\n",
            "| GPU  Name        Persistence-M| Bus-Id        Disp.A | Volatile Uncorr. ECC |\n",
            "| Fan  Temp  Perf  Pwr:Usage/Cap|         Memory-Usage | GPU-Util  Compute M. |\n",
            "|                               |                      |               MIG M. |\n",
            "|===============================+======================+======================|\n",
            "|   0  Tesla T4            Off  | 00000000:00:04.0 Off |                    0 |\n",
            "| N/A   40C    P8    10W /  70W |      0MiB / 15360MiB |      0%      Default |\n",
            "|                               |                      |                  N/A |\n",
            "+-------------------------------+----------------------+----------------------+\n",
            "                                                                               \n",
            "+-----------------------------------------------------------------------------+\n",
            "| Processes:                                                                  |\n",
            "|  GPU   GI   CI        PID   Type   Process name                  GPU Memory |\n",
            "|        ID   ID                                                   Usage      |\n",
            "|=============================================================================|\n",
            "|  No running processes found                                                 |\n",
            "+-----------------------------------------------------------------------------+\n"
          ]
        }
      ],
      "source": [
        "# use an nvidia shell command to check the gpu\n",
        "! nvidia-smi"
      ]
    },
    {
      "cell_type": "markdown",
      "source": [
        "# N8 Python GPU Workshop April 2023\n",
        "\n"
      ],
      "metadata": {
        "id": "fotN0RL-sjpN"
      }
    },
    {
      "cell_type": "markdown",
      "source": [
        "## Our first GPU Kernel"
      ],
      "metadata": {
        "id": "hp-6x2F3s5l1"
      }
    },
    {
      "cell_type": "code",
      "source": [
        "# vector_add that adds two input vectors together and stores the sum in another vector\n",
        "\n",
        "def vector_add(A, B, C, size):\n",
        "  for item in range(0, size):\n",
        "    C[item] = A[item] + B[item]"
      ],
      "metadata": {
        "id": "m8nytC-WsRZP"
      },
      "execution_count": 2,
      "outputs": []
    },
    {
      "cell_type": "code",
      "source": [
        "import numpy as np\n",
        "\n",
        "size = 1024\n",
        "\n",
        "a_cpu = np.random.rand(size)\n",
        "b_cpu = np.random.rand(size)\n",
        "c_cpu = np.zeros(size)\n",
        "\n",
        "vector_add(a_cpu, b_cpu, c_cpu, size)"
      ],
      "metadata": {
        "id": "L9Wi-m4MvUIN"
      },
      "execution_count": 5,
      "outputs": []
    },
    {
      "cell_type": "code",
      "source": [
        "print(c_cpu)"
      ],
      "metadata": {
        "colab": {
          "base_uri": "https://localhost:8080/"
        },
        "id": "u_OK4cp-wJZC",
        "outputId": "647dfa4d-3980-4e5a-a607-2eb4e19520e9"
      },
      "execution_count": 6,
      "outputs": [
        {
          "output_type": "stream",
          "name": "stdout",
          "text": [
            "[1.35561226 0.5990934  1.62263847 ... 1.60657024 0.56377069 1.67242285]\n"
          ]
        }
      ]
    },
    {
      "cell_type": "code",
      "source": [
        "# converting the above code into a CUDA kernel\n",
        "\n",
        "import cupy \n",
        "\n",
        "# CUDA kernel\n",
        "\n",
        "vector_add_cuda_code = r'''\n",
        "extern \"C\"\n",
        "__global__ void vector_add(const float * A, const float * B, float * C, const int size)\n",
        "{\n",
        "  int item = threadIdx.x;\n",
        "  C[item] = A[item] + B[item];\n",
        "}\n",
        "'''"
      ],
      "metadata": {
        "id": "XSjwn8tGwLNu"
      },
      "execution_count": 21,
      "outputs": []
    },
    {
      "cell_type": "code",
      "source": [
        "# compile the kernel into a function\n",
        "# we can run, through CuPy\n",
        "\n",
        "vector_add_gpu = cupy.RawKernel(vector_add_cuda_code, \"vector_add\")"
      ],
      "metadata": {
        "id": "iwMvK8XBzcB8"
      },
      "execution_count": 22,
      "outputs": []
    },
    {
      "cell_type": "code",
      "source": [
        "# run the GPU version of vector_add\n",
        "\n",
        "size = 1024\n",
        "\n",
        "# create cupy arrays from numpy arrays\n",
        "a_gpu = cupy.asarray(a_cpu, dtype=cupy.float32)\n",
        "b_gpu = cupy.asarray(b_cpu, dtype=cupy.float32)\n",
        "c_gpu = cupy.zeros(size, dtype=cupy.float32)"
      ],
      "metadata": {
        "id": "r9ElkIHzzz16"
      },
      "execution_count": 23,
      "outputs": []
    },
    {
      "cell_type": "code",
      "source": [
        "# run our custom kernel on the GPU\n",
        "\n",
        "# specified 3 tuples, grid configuration, block configuration, kernel arguments\n",
        "vector_add_gpu((1, 1, 1), (size, 1, 1), (a_gpu, b_gpu, c_gpu, size))"
      ],
      "metadata": {
        "id": "or8tEsmj0HEL"
      },
      "execution_count": 24,
      "outputs": []
    },
    {
      "cell_type": "code",
      "source": [
        "if np.allclose(c_cpu, c_gpu):\n",
        "  print(\"Correct results!\")"
      ],
      "metadata": {
        "colab": {
          "base_uri": "https://localhost:8080/"
        },
        "id": "3eStlUsu1OV8",
        "outputId": "007b5992-c14e-491b-a359-99b545d957af"
      },
      "execution_count": 25,
      "outputs": [
        {
          "output_type": "stream",
          "name": "stdout",
          "text": [
            "Correct results!\n"
          ]
        }
      ]
    },
    {
      "cell_type": "code",
      "source": [
        "# using data larger than 1024\n",
        "\n",
        "size = 2048\n",
        "\n",
        "a_gpu = cupy.random.rand(size, dtype=cupy.float32)\n",
        "b_gpu = cupy.random.rand(size, dtype=cupy.float32)\n",
        "c_gpu = cupy.zeros(size, dtype=cupy.float32)"
      ],
      "metadata": {
        "id": "piBaGNJC1VkK"
      },
      "execution_count": 26,
      "outputs": []
    },
    {
      "cell_type": "code",
      "source": [
        "# this errors because we've requested more than 1024 threads per block\n",
        "# in the second tuple argument\n",
        "vector_add_gpu((1,1,1), (size, 1, 1), (a_gpu, b_gpu, c_gpu, size))"
      ],
      "metadata": {
        "colab": {
          "base_uri": "https://localhost:8080/",
          "height": 343
        },
        "id": "HvFnjbkG6UYW",
        "outputId": "bbe4c3e7-0d03-459a-e3e3-024f258dc27f"
      },
      "execution_count": 27,
      "outputs": [
        {
          "output_type": "error",
          "ename": "CUDADriverError",
          "evalue": "ignored",
          "traceback": [
            "\u001b[0;31m---------------------------------------------------------------------------\u001b[0m",
            "\u001b[0;31mCUDADriverError\u001b[0m                           Traceback (most recent call last)",
            "\u001b[0;32m<ipython-input-27-19c41920a3f6>\u001b[0m in \u001b[0;36m<cell line: 1>\u001b[0;34m()\u001b[0m\n\u001b[0;32m----> 1\u001b[0;31m \u001b[0mvector_add_gpu\u001b[0m\u001b[0;34m(\u001b[0m\u001b[0;34m(\u001b[0m\u001b[0;36m1\u001b[0m\u001b[0;34m,\u001b[0m\u001b[0;36m1\u001b[0m\u001b[0;34m,\u001b[0m\u001b[0;36m1\u001b[0m\u001b[0;34m)\u001b[0m\u001b[0;34m,\u001b[0m \u001b[0;34m(\u001b[0m\u001b[0msize\u001b[0m\u001b[0;34m,\u001b[0m \u001b[0;36m1\u001b[0m\u001b[0;34m,\u001b[0m \u001b[0;36m1\u001b[0m\u001b[0;34m)\u001b[0m\u001b[0;34m,\u001b[0m \u001b[0;34m(\u001b[0m\u001b[0ma_gpu\u001b[0m\u001b[0;34m,\u001b[0m \u001b[0mb_gpu\u001b[0m\u001b[0;34m,\u001b[0m \u001b[0mc_gpu\u001b[0m\u001b[0;34m,\u001b[0m \u001b[0msize\u001b[0m\u001b[0;34m)\u001b[0m\u001b[0;34m)\u001b[0m\u001b[0;34m\u001b[0m\u001b[0;34m\u001b[0m\u001b[0m\n\u001b[0m",
            "\u001b[0;32mcupy/_core/raw.pyx\u001b[0m in \u001b[0;36mcupy._core.raw.RawKernel.__call__\u001b[0;34m()\u001b[0m\n",
            "\u001b[0;32mcupy/cuda/function.pyx\u001b[0m in \u001b[0;36mcupy.cuda.function.Function.__call__\u001b[0;34m()\u001b[0m\n",
            "\u001b[0;32mcupy/cuda/function.pyx\u001b[0m in \u001b[0;36mcupy.cuda.function._launch\u001b[0;34m()\u001b[0m\n",
            "\u001b[0;32mcupy_backends/cuda/api/driver.pyx\u001b[0m in \u001b[0;36mcupy_backends.cuda.api.driver.launchKernel\u001b[0;34m()\u001b[0m\n",
            "\u001b[0;32mcupy_backends/cuda/api/driver.pyx\u001b[0m in \u001b[0;36mcupy_backends.cuda.api.driver.check_status\u001b[0;34m()\u001b[0m\n",
            "\u001b[0;31mCUDADriverError\u001b[0m: CUDA_ERROR_INVALID_VALUE: invalid argument"
          ]
        }
      ]
    },
    {
      "cell_type": "code",
      "source": [
        "# can we get around the block size limit\n",
        "# by request 2 blocks with half the size as number of threads\n",
        "\n",
        "vector_add_gpu((2,1,1), (size // 2, 1, 1), (a_gpu, b_gpu, c_gpu, size))"
      ],
      "metadata": {
        "id": "kap67yUw6fOW"
      },
      "execution_count": 28,
      "outputs": []
    },
    {
      "cell_type": "code",
      "source": [
        "# test if this has worked as expected\n",
        "\n",
        "a_cpu = cupy.asnumpy(a_gpu)\n",
        "b_cpu = cupy.asnumpy(b_gpu)\n",
        "c_cpu = np.zeros(size, dtype=np.float32)\n",
        "\n",
        "# call the python version of vector add\n",
        "vector_add(a_cpu, b_cpu, c_cpu, size)"
      ],
      "metadata": {
        "id": "IvevRfXY7Ti1"
      },
      "execution_count": 29,
      "outputs": []
    },
    {
      "cell_type": "code",
      "source": [
        "if np.allclose(c_cpu, c_gpu):\n",
        "  print(\"Right results!\")\n",
        "else:\n",
        "  print(\"Wrong results!\")"
      ],
      "metadata": {
        "colab": {
          "base_uri": "https://localhost:8080/"
        },
        "id": "GyUq9Xdu7yVG",
        "outputId": "99198a9a-6954-42ff-b0e3-0b3d17f2d1f8"
      },
      "execution_count": 30,
      "outputs": [
        {
          "output_type": "stream",
          "name": "stdout",
          "text": [
            "Wrong results!\n"
          ]
        }
      ]
    },
    {
      "cell_type": "code",
      "source": [
        "print(c_gpu)"
      ],
      "metadata": {
        "colab": {
          "base_uri": "https://localhost:8080/"
        },
        "id": "j9k3qaLH8I3o",
        "outputId": "c56030dc-4076-4923-c9e4-a3b46095be4c"
      },
      "execution_count": 31,
      "outputs": [
        {
          "output_type": "stream",
          "name": "stdout",
          "text": [
            "[0.6206742  0.32335612 1.0443004  ... 0.         0.         0.        ]\n"
          ]
        }
      ]
    },
    {
      "cell_type": "code",
      "source": [
        "print(c_cpu)"
      ],
      "metadata": {
        "colab": {
          "base_uri": "https://localhost:8080/"
        },
        "id": "bGYZouwv8LEW",
        "outputId": "0e55eb91-f664-4376-d091-3a8008b92dca"
      },
      "execution_count": 32,
      "outputs": [
        {
          "output_type": "stream",
          "name": "stdout",
          "text": [
            "[0.6206742  0.32335612 1.0443004  ... 0.16475175 0.7256685  0.9482078 ]\n"
          ]
        }
      ]
    },
    {
      "cell_type": "code",
      "source": [
        "# CUDA kernel that accounts for multiple blocks\n",
        "\n",
        "# we need to use additional CUDA variables\n",
        "# to help calculate the right index for each thread in each block\n",
        "\n",
        "\n",
        "vector_add_cuda_code = r'''\n",
        "extern \"C\"\n",
        "__global__ void vector_add(const float * A, const float * B, float * C, const int size)\n",
        "{\n",
        "  int item = (blockIdx.x * blockDim.x) + threadIdx.x;\n",
        "  C[item] = A[item] + B[item];\n",
        "}\n",
        "'''"
      ],
      "metadata": {
        "id": "lifct1o77651"
      },
      "execution_count": 33,
      "outputs": []
    },
    {
      "cell_type": "code",
      "source": [
        "vector_add_gpu = cupy.RawKernel(vector_add_cuda_code, \"vector_add\")\n",
        "\n",
        "vector_add_gpu((2, 1, 1), (size // 2, 1, 1), (a_gpu, b_gpu, c_gpu, size))"
      ],
      "metadata": {
        "id": "YMNXnzGK9gWj"
      },
      "execution_count": 34,
      "outputs": []
    },
    {
      "cell_type": "code",
      "source": [
        "if np.allclose(c_cpu, c_gpu):\n",
        "  print(\"All correct!\")\n",
        "else:\n",
        "  print(\"Wrong results!\")"
      ],
      "metadata": {
        "colab": {
          "base_uri": "https://localhost:8080/"
        },
        "id": "A3jRpo5593H6",
        "outputId": "e00e6e59-d42d-4ca2-c05a-2e5c81296127"
      },
      "execution_count": 35,
      "outputs": [
        {
          "output_type": "stream",
          "name": "stdout",
          "text": [
            "All correct!\n"
          ]
        }
      ]
    },
    {
      "cell_type": "code",
      "source": [
        "# updating the kernel to handle arbitrary values\n",
        "\n",
        "vector_add_cuda_code = r'''\n",
        "extern \"C\"\n",
        "__global__ void vector_add(const float * A, const float * B, float * C, const int size)\n",
        "{\n",
        "  int item = (blockIdx.x * blockDim.x) + threadIdx.x;\n",
        "  if ( item < size )\n",
        "  {\n",
        "    C[item] = A[item] + B[item];\n",
        "  }\n",
        "}\n",
        "'''"
      ],
      "metadata": {
        "id": "DDBUYt-P9-TE"
      },
      "execution_count": 36,
      "outputs": []
    },
    {
      "cell_type": "code",
      "source": [
        "# using data of an arbitrary size\n",
        "\n",
        "size = 10_000\n",
        "\n",
        "a_gpu = cupy.random.rand(size, dtype=cupy.float32)\n",
        "b_gpu = cupy.random.rand(size, dtype=cupy.float32)\n",
        "c_gpu = cupy.zeros(size, dtype=cupy.float32)"
      ],
      "metadata": {
        "id": "Cn9hGuvv-xwn"
      },
      "execution_count": 37,
      "outputs": []
    },
    {
      "cell_type": "code",
      "source": [
        "vector_add_gpu = cupy.RawKernel(vector_add_cuda_code, \"vector_add\")\n",
        "\n",
        "vector_add_gpu((2, 1, 1), (size // 2, 1, 1), (a_gpu, b_gpu, c_gpu, size))"
      ],
      "metadata": {
        "colab": {
          "base_uri": "https://localhost:8080/",
          "height": 378
        },
        "id": "elbnGiyq_AjC",
        "outputId": "ddc8491f-d37b-417e-cc17-b9491d39fa70"
      },
      "execution_count": 38,
      "outputs": [
        {
          "output_type": "error",
          "ename": "CUDADriverError",
          "evalue": "ignored",
          "traceback": [
            "\u001b[0;31m---------------------------------------------------------------------------\u001b[0m",
            "\u001b[0;31mCUDADriverError\u001b[0m                           Traceback (most recent call last)",
            "\u001b[0;32m<ipython-input-38-861a2ca71f88>\u001b[0m in \u001b[0;36m<cell line: 3>\u001b[0;34m()\u001b[0m\n\u001b[1;32m      1\u001b[0m \u001b[0mvector_add_gpu\u001b[0m \u001b[0;34m=\u001b[0m \u001b[0mcupy\u001b[0m\u001b[0;34m.\u001b[0m\u001b[0mRawKernel\u001b[0m\u001b[0;34m(\u001b[0m\u001b[0mvector_add_cuda_code\u001b[0m\u001b[0;34m,\u001b[0m \u001b[0;34m\"vector_add\"\u001b[0m\u001b[0;34m)\u001b[0m\u001b[0;34m\u001b[0m\u001b[0;34m\u001b[0m\u001b[0m\n\u001b[1;32m      2\u001b[0m \u001b[0;34m\u001b[0m\u001b[0m\n\u001b[0;32m----> 3\u001b[0;31m \u001b[0mvector_add_gpu\u001b[0m\u001b[0;34m(\u001b[0m\u001b[0;34m(\u001b[0m\u001b[0;36m2\u001b[0m\u001b[0;34m,\u001b[0m \u001b[0;36m1\u001b[0m\u001b[0;34m,\u001b[0m \u001b[0;36m1\u001b[0m\u001b[0;34m)\u001b[0m\u001b[0;34m,\u001b[0m \u001b[0;34m(\u001b[0m\u001b[0msize\u001b[0m \u001b[0;34m//\u001b[0m \u001b[0;36m2\u001b[0m\u001b[0;34m,\u001b[0m \u001b[0;36m1\u001b[0m\u001b[0;34m,\u001b[0m \u001b[0;36m1\u001b[0m\u001b[0;34m)\u001b[0m\u001b[0;34m,\u001b[0m \u001b[0;34m(\u001b[0m\u001b[0ma_gpu\u001b[0m\u001b[0;34m,\u001b[0m \u001b[0mb_gpu\u001b[0m\u001b[0;34m,\u001b[0m \u001b[0mc_gpu\u001b[0m\u001b[0;34m,\u001b[0m \u001b[0msize\u001b[0m\u001b[0;34m)\u001b[0m\u001b[0;34m)\u001b[0m\u001b[0;34m\u001b[0m\u001b[0;34m\u001b[0m\u001b[0m\n\u001b[0m",
            "\u001b[0;32mcupy/_core/raw.pyx\u001b[0m in \u001b[0;36mcupy._core.raw.RawKernel.__call__\u001b[0;34m()\u001b[0m\n",
            "\u001b[0;32mcupy/cuda/function.pyx\u001b[0m in \u001b[0;36mcupy.cuda.function.Function.__call__\u001b[0;34m()\u001b[0m\n",
            "\u001b[0;32mcupy/cuda/function.pyx\u001b[0m in \u001b[0;36mcupy.cuda.function._launch\u001b[0;34m()\u001b[0m\n",
            "\u001b[0;32mcupy_backends/cuda/api/driver.pyx\u001b[0m in \u001b[0;36mcupy_backends.cuda.api.driver.launchKernel\u001b[0;34m()\u001b[0m\n",
            "\u001b[0;32mcupy_backends/cuda/api/driver.pyx\u001b[0m in \u001b[0;36mcupy_backends.cuda.api.driver.check_status\u001b[0;34m()\u001b[0m\n",
            "\u001b[0;31mCUDADriverError\u001b[0m: CUDA_ERROR_INVALID_VALUE: invalid argument"
          ]
        }
      ]
    },
    {
      "cell_type": "code",
      "source": [
        "# calculating the required number of blocks\n",
        "# in our CUDA grid to run data of arbitrary size\n",
        "\n",
        "import math \n",
        "\n",
        "# specify that our blocks should always have\n",
        "# 1024 threads in the x dimension\n",
        "block_size = (1024, 1, 1)\n",
        "\n",
        "grid_size = (int(math.ceil(size / 1024)), 1, 1)"
      ],
      "metadata": {
        "id": "dph6qx_n_Hmy"
      },
      "execution_count": 39,
      "outputs": []
    },
    {
      "cell_type": "code",
      "source": [
        "print(grid_size)"
      ],
      "metadata": {
        "colab": {
          "base_uri": "https://localhost:8080/"
        },
        "id": "y_kF-lQaBJKZ",
        "outputId": "a05c3136-0ea8-4489-f813-ddf86509df9d"
      },
      "execution_count": 40,
      "outputs": [
        {
          "output_type": "stream",
          "name": "stdout",
          "text": [
            "(10, 1, 1)\n"
          ]
        }
      ]
    },
    {
      "cell_type": "code",
      "source": [
        "# now we can run our vector_add code on data of an arbitrary size\n",
        "# using Python logic to help calculate the CUDA grid\n",
        "vector_add_gpu(grid_size, block_size, (a_gpu, b_gpu, c_gpu, size))"
      ],
      "metadata": {
        "id": "64QRzoB_BBLQ"
      },
      "execution_count": 41,
      "outputs": []
    },
    {
      "cell_type": "code",
      "source": [
        "a_cpu = cupy.asnumpy(a_gpu)\n",
        "b_cpu = cupy.asnumpy(b_gpu)\n",
        "c_cpu = np.zeros(size, dtype=np.float32)\n",
        "\n",
        "vector_add(a_cpu, b_cpu, c_cpu, size)"
      ],
      "metadata": {
        "id": "ONqokRPyBOnv"
      },
      "execution_count": 42,
      "outputs": []
    },
    {
      "cell_type": "code",
      "source": [
        "# check if our results match\n",
        "\n",
        "if np.allclose(c_cpu, c_gpu):\n",
        "  print(\"Correct results!\")\n",
        "else:\n",
        "  print(\"Oh no!\")"
      ],
      "metadata": {
        "colab": {
          "base_uri": "https://localhost:8080/"
        },
        "id": "vU7BRHidBfGQ",
        "outputId": "b915b847-cf31-480a-a2d4-4d8b8481d305"
      },
      "execution_count": 43,
      "outputs": [
        {
          "output_type": "stream",
          "name": "stdout",
          "text": [
            "Correct results!\n"
          ]
        }
      ]
    },
    {
      "cell_type": "code",
      "source": [],
      "metadata": {
        "id": "gUx5cVJOBljA"
      },
      "execution_count": null,
      "outputs": []
    }
  ]
}